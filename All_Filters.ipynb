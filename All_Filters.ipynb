{
  "nbformat": 4,
  "nbformat_minor": 0,
  "metadata": {
    "colab": {
      "name": "All Filters",
      "provenance": [],
      "collapsed_sections": [],
      "machine_shape": "hm"
    },
    "kernelspec": {
      "name": "python3",
      "display_name": "Python 3"
    }
  },
  "cells": [
    {
      "cell_type": "markdown",
      "metadata": {
        "id": "jMmBwgQk2UH-",
        "colab_type": "text"
      },
      "source": [
        "# Spam Classifier\n",
        "\n",
        "## Requirements\n",
        "If you are running this in colab you will need to download the trec07p email database and also 4 text files which define the training and testing sets and their labels. The cells below will download the files from your google drive if they are in a folder called 'spamdata'.  The 4 text files are:\n",
        "\n",
        "* train_set.txt\n",
        "* train_label.txt\n",
        "* test_set.txt\n",
        "* test_label.txt\n",
        "\n",
        "The database is called trec07p.tgz and can be downloaded from:\n",
        "\n",
        "https://plg.uwaterloo.ca/cgi-bin/cgiwrap/gvcormac/trec07p.tgz\n",
        "\n",
        "If you are running this locally the text files should be in the same folder as the python notebook and the trec07p folder should be in a folder called 'Emails'.\n",
        "\n",
        "## Reference\n",
        "Using sections of code from Sie Huai Gan, 2018, https://towardsdatascience.com/email-spam-detection-1-2-b0e06a5c0472, https://github.com/huai99/Email-Spam-Detection-Python/blob/master/Email%20Spamming%20(Medium%20Part%201).ipynb\n",
        "\n",
        "and using multiple functions from the scikit-learn library, https://scikit-learn.org/stable/modules/classes.html\n",
        "\n",
        "and adopting a feature selection method using the ExtraTreesClasssifier from https://machinelearningmastery.com/feature-selection-machine-learning-python/"
      ]
    },
    {
      "cell_type": "code",
      "metadata": {
        "id": "-8hs6FmXGEOX",
        "colab_type": "code",
        "outputId": "7795aeb1-ab34-4e72-f45f-4297e2e84951",
        "colab": {
          "base_uri": "https://localhost:8080/",
          "height": 34
        }
      },
      "source": [
        "from google.colab import drive\n",
        "drive.mount('/content/drive')"
      ],
      "execution_count": 15,
      "outputs": [
        {
          "output_type": "stream",
          "text": [
            "Drive already mounted at /content/drive; to attempt to forcibly remount, call drive.mount(\"/content/drive\", force_remount=True).\n"
          ],
          "name": "stdout"
        }
      ]
    },
    {
      "cell_type": "code",
      "metadata": {
        "id": "f2bmk9BXGFZK",
        "colab_type": "code",
        "colab": {
          "base_uri": "https://localhost:8080/",
          "height": 51
        },
        "outputId": "3a5ffeb7-20b6-48e4-e002-838c80f59ff5"
      },
      "source": [
        "! cp /content/drive/My\\ Drive/spamdata/trec07p.tgz ./ \n",
        "! tar xvf trec07p.tgz >/dev/null\n",
        "! mkdir Emails\n",
        "! mv trec07p Emails/\n",
        "! cp /content/drive/My\\ Drive/spamdata/*.txt ./"
      ],
      "execution_count": 16,
      "outputs": [
        {
          "output_type": "stream",
          "text": [
            "mkdir: cannot create directory ‘Emails’: File exists\n",
            "mv: cannot move 'trec07p' to 'Emails/trec07p': Directory not empty\n"
          ],
          "name": "stdout"
        }
      ]
    },
    {
      "cell_type": "code",
      "metadata": {
        "id": "sDtpvNrq2N5a",
        "colab_type": "code",
        "outputId": "932c93cf-ba19-4694-e724-e234ba948cc9",
        "colab": {
          "base_uri": "https://localhost:8080/",
          "height": 85
        }
      },
      "source": [
        "#import necessary packages\n",
        "import os\n",
        "import glob \n",
        "import numpy as np\n",
        "import email\n",
        "import shutil\n",
        "import re\n",
        "import string\n",
        "from time import time\n",
        "import nltk\n",
        "nltk.download('punkt')\n",
        "nltk.download('wordnet')\n",
        "from nltk.tokenize import word_tokenize\n",
        "from sklearn.feature_extraction.stop_words import ENGLISH_STOP_WORDS\n",
        "from nltk.stem import WordNetLemmatizer\n",
        "from sklearn.feature_extraction.text import CountVectorizer\n",
        "from sklearn.feature_extraction.text import TfidfVectorizer, HashingVectorizer\n",
        "from sklearn.ensemble import ExtraTreesClassifier\n",
        "from sklearn.feature_selection import SelectFromModel\n",
        "from sklearn.svm import LinearSVC\n",
        "from sklearn.svm import SVC\n",
        "from sklearn.naive_bayes import GaussianNB,MultinomialNB\n",
        "from sklearn.neural_network import MLPClassifier\n",
        "from sklearn.neighbors import KNeighborsClassifier\n",
        "from sklearn.tree import DecisionTreeClassifier\n",
        "from sklearn.ensemble import AdaBoostClassifier\n",
        "from sklearn.metrics import confusion_matrix,f1_score, precision_score,recall_score,accuracy_score,roc_curve,auc,roc_auc_score"
      ],
      "execution_count": 17,
      "outputs": [
        {
          "output_type": "stream",
          "text": [
            "[nltk_data] Downloading package punkt to /root/nltk_data...\n",
            "[nltk_data]   Package punkt is already up-to-date!\n",
            "[nltk_data] Downloading package wordnet to /root/nltk_data...\n",
            "[nltk_data]   Package wordnet is already up-to-date!\n"
          ],
          "name": "stdout"
        }
      ]
    },
    {
      "cell_type": "markdown",
      "metadata": {
        "id": "yU24SaVBYAoR",
        "colab_type": "text"
      },
      "source": [
        "##Load Dataset"
      ]
    },
    {
      "cell_type": "code",
      "metadata": {
        "id": "94e2FTKA23LY",
        "colab_type": "code",
        "colab": {}
      },
      "source": [
        "\n",
        "email_folder = os.path.join(\"Emails\", \"trec07p\")\n",
        "\n",
        "file = open(os.path.join(email_folder, \"full\", \"index\"))\n",
        "\n",
        "ham_path = []\n",
        "spam_path = []\n",
        "bad_lines = []\n",
        "\n",
        "for line in file:\n",
        "    match = re.search('(.*) .*\\.(\\d*)', line)\n",
        "    if match:\n",
        "        file_number = match.group(2)\n",
        "        if match.group(1) == \"spam\":\n",
        "            spam_path.append(match.group(2))\n",
        "        elif match.group(1) == \"ham\":\n",
        "            ham_path.append(match.group(2))\n",
        "        else:\n",
        "            bad_lines.append(line)\n",
        "file.close()\n",
        "\n",
        "import random\n",
        "\n",
        "random.shuffle(ham_path)\n",
        "random.shuffle(spam_path)\n"
      ],
      "execution_count": 0,
      "outputs": []
    },
    {
      "cell_type": "code",
      "metadata": {
        "id": "yGX7wjmj3PEk",
        "colab_type": "code",
        "colab": {}
      },
      "source": [
        "#select number of emails to use\n",
        "total_mails = 5000\n",
        "# made 66% of emails spam to reflect corpus\n",
        "spam_mails = round(total_mails*0.66)\n",
        "ham_mails = total_mails-spam_mails\n",
        "\n",
        "ham_path = ham_path[:ham_mails]\n",
        "spam_path = spam_path[:spam_mails]"
      ],
      "execution_count": 0,
      "outputs": []
    },
    {
      "cell_type": "markdown",
      "metadata": {
        "id": "N3_cyeUh3hsi",
        "colab_type": "text"
      },
      "source": [
        "## Set parameters\n",
        "Change below parameters to determine settings to run on "
      ]
    },
    {
      "cell_type": "code",
      "metadata": {
        "id": "wg86jVpA3Zll",
        "colab_type": "code",
        "colab": {}
      },
      "source": [
        "#if True then use only the subject of the emails\n",
        "use_subject = False\n",
        "#if True then use pre-existing subset of emails\n",
        "use_set = False\n",
        "#if True then classify a particular test email, note - can only be done using the importance feature selection method\n",
        "test_email = False\n",
        "if test_email == True:\n",
        "    location = \"723\"  #number of email in corpus to test\n",
        "#if True then classify a chosen test string, note - can only be done using the importance feature selection method\n",
        "test_string = False\n",
        "if test_string == True:\n",
        "    test_words = \"You have won a large jackpot! Click this link to claim your prize:\" #string to test\n",
        "#choose vectorizer and n-gram model\n",
        "n_gram = 1 # change to change the number of words per feature\n",
        "tfidf = False #term freq - inverse document freq vectorizer\n",
        "count = True #count vectorizer\n",
        "#choose feature selection method and feature importance criteria\n",
        "several_criteria = False #select as True if using several feature selection methods\n",
        "mutual_info = False # some need a choice between using mutual information and chi squared as functions to select features\n",
        "chisqr = True #only one of chisqr and mutual_info should be true\n",
        "threshold = False #using variance threshold to delete some features\n",
        "k_best = False #selecting the k best features\n",
        "s_perc = False #selecting a percentile of the best features\n",
        "pca = False #principal component analysis - decomposition for dimensionality reduction\n",
        "importance = True #feature importance using ExtraTreesClassifier and selecting best percentile of features from model\n",
        "#choose scaler/transformer\n",
        "one_hot =  False # keep False, was tested but not able to work\n",
        "standardize = False #standard scaler\n",
        "max_abs = False #max-abs scaler\n",
        "robust = False #robust to outliers\n",
        "power = False #makes data more Gaussian-like\n",
        "quantile_gauss = False #Gaussian output\n",
        "quantile_uniform = False #uniform output\n",
        "normal = False #normalizes data\n",
        "#optional metrics\n",
        "roc = True #plot roc curves\n",
        "prec_curve = True #plot precision-recall curves\n",
        "#choose filters to test\n",
        "naive_bayes = True #naive bayes with Gaussian kernel\n",
        "linear_svc = True #Support vector machine with linear kernel\n",
        "mnb = True #Multinomial Naive Bayes\n",
        "svc = True #Support vector machine with rbf kernel\n",
        "mlp = True #Multi-layer perceptron - neural networks\n",
        "knn = True #K nearest neighbours\n",
        "dtc = True #Decision tree classifier\n",
        "ada = True #AdaBoost ensemble classifier\n",
        "three_filters = True #combining 3 chosen filters\n",
        "if three_filters == True: #change letters to change filters used - must be True above\n",
        "    filter1 = \"NB\" #NB = gaussian naive bayes, LSVM = linear support vector machine, MNB = multinomial naive bayes\n",
        "    filter2 = \"LSVM\" #SVM = support vector machine (rbf), MLP = multi-layer perceptron, KNN = k nearest neighbours\n",
        "    filter3 = \"MLP\" #DTC = decision tree classifier, ADA = adaboost\n",
        "    first_predict=[]\n",
        "    second_predict=[]\n",
        "    third_predict=[]\n",
        "else:\n",
        "    filter1 = \"\"\n",
        "    filter2 = \"\"\n",
        "    filter3 = \"\""
      ],
      "execution_count": 0,
      "outputs": []
    },
    {
      "cell_type": "markdown",
      "metadata": {
        "id": "0xTZeExiYgQp",
        "colab_type": "text"
      },
      "source": [
        "## Create/Use Saved Dataset\n",
        "If creating a new dataset, split into training and testing sets and save\n"
      ]
    },
    {
      "cell_type": "code",
      "metadata": {
        "id": "85Usn5Sg58dc",
        "colab_type": "code",
        "colab": {
          "base_uri": "https://localhost:8080/",
          "height": 85
        },
        "outputId": "92f2577f-efcb-4164-c30c-f9988ed37949"
      },
      "source": [
        "\n",
        "from sklearn.model_selection import train_test_split\n",
        "\n",
        "t0 = time()\n",
        "\n",
        "if use_set == False:\n",
        "    #generate new training and test sets\n",
        "    #splitting into ham and spam train and test samples\n",
        "    ham_sample = np.array([train_test_split(ham_path)])\n",
        "    ham_train = np.array([])\n",
        "    ham_test = np.array([])\n",
        "    for o in ham_sample:\n",
        "        ham_train = np.concatenate((ham_train,o[0]),axis=0)\n",
        "        ham_test = np.concatenate((ham_test,o[1]),axis=0)\n",
        "\n",
        "    print(\"ham training,testing:\")\n",
        "    print(ham_train.shape, ham_test.shape)\n",
        "\n",
        "    spam_sample = np.array([train_test_split(spam_path)])\n",
        "    spam_train = np.array([])\n",
        "    spam_test = np.array([])\n",
        "    for o in spam_sample:\n",
        "        spam_train = np.concatenate((spam_train,o[0]),axis=0)\n",
        "        spam_test = np.concatenate((spam_test,o[1]),axis=0)\n",
        "\n",
        "    print(\"spam training,testing:\")\n",
        "    print(spam_train.shape, spam_test.shape)\n",
        "\n",
        "    ham_train_label = [0]*ham_train.shape[0] # 0 for every ham email\n",
        "    spam_train_label = [1]*spam_train.shape[0] # 1 for every spam email\n",
        "    x_train = np.concatenate((ham_train,spam_train)) # join into one training set\n",
        "    y_train = np.concatenate((ham_train_label,spam_train_label)) # join labels for training set\n",
        "\n",
        "    ham_test_label = [0]*ham_test.shape[0]\n",
        "    spam_test_label = [1]*spam_test.shape[0]\n",
        "    x_test = np.concatenate((ham_test,spam_test))\n",
        "    y_test = np.concatenate((ham_test_label,spam_test_label))\n",
        "\n",
        "    # randomly shuffling emails and labels in both sets\n",
        "    train_shuffle_index = np.random.permutation(np.arange(0,x_train.shape[0]))\n",
        "    test_shuffle_index = np.random.permutation(np.arange(0,x_test.shape[0]))\n",
        "\n",
        "    x_train = x_train[train_shuffle_index]\n",
        "    y_train = y_train[train_shuffle_index]\n",
        "\n",
        "    x_test = x_test[test_shuffle_index]\n",
        "    y_test = y_test[test_shuffle_index]\n",
        "\n",
        "    # save in files for future use of set\n",
        "    f_train = open(\"train_set.txt\",\"w\")\n",
        "    f_train_label = open(\"train_label.txt\",\"w\")\n",
        "    f_test = open(\"test_set.txt\",\"w\")\n",
        "    f_test_label = open(\"test_label.txt\",\"w\")\n",
        "    for i in range(len(x_train)):\n",
        "        f_train.write(x_train[i]+\"\\n\")\n",
        "        f_train_label.write(str(y_train[i])+\"\\n\")\n",
        "    for i in range(len(x_test)):\n",
        "        f_test.write(x_test[i]+\"\\n\")\n",
        "        f_test_label.write(str(y_test[i])+\"\\n\")\n",
        "    f_train.close()\n",
        "    f_train_label.close()\n",
        "    f_test.close()\n",
        "    f_test_label.close()\n",
        "else: #use existing train and test sets\n",
        "    f_train = open(\"train_set.txt\",\"r\")\n",
        "    f_train_label = open(\"train_label.txt\",\"r\")\n",
        "    f_test = open(\"test_set.txt\",\"r\")\n",
        "    f_test_label = open(\"test_label.txt\",\"r\")\n",
        "    \n",
        "    x_train = np.loadtxt(f_train,dtype=str,delimiter='\\n')\n",
        "    y_train = np.loadtxt(f_train_label,dtype=int,delimiter='\\n')\n",
        "    x_test = np.loadtxt(f_test,dtype=str,delimiter='\\n')\n",
        "    y_test = np.loadtxt(f_test_label,dtype=int,delimiter='\\n')\n",
        "    \n",
        "    f_train.close()\n",
        "    f_train_label.close()\n",
        "    f_test.close()\n",
        "    f_test_label.close()\n"
      ],
      "execution_count": 21,
      "outputs": [
        {
          "output_type": "stream",
          "text": [
            "ham training,testing:\n",
            "(1275,) (425,)\n",
            "spam training,testing:\n",
            "(2475,) (825,)\n"
          ],
          "name": "stdout"
        }
      ]
    },
    {
      "cell_type": "markdown",
      "metadata": {
        "id": "wsX-C3k2Y2Gk",
        "colab_type": "text"
      },
      "source": [
        "##Get Email Contents"
      ]
    },
    {
      "cell_type": "code",
      "metadata": {
        "id": "HYfgsl1FYmYG",
        "colab_type": "code",
        "colab": {}
      },
      "source": [
        "\n",
        "#get the plain text or html contents of the emails\n",
        "def get_email_content(email_path):\n",
        "    mail_file = os.path.join(email_folder, \"data\", \"inmail.\"+str(email_path))\n",
        "    file = open(mail_file,encoding='latin1')\n",
        "    try:\n",
        "        msg = email.message_from_file(file)\n",
        "        if use_subject:\n",
        "            return msg['subject']\n",
        "        else:\n",
        "            for part in msg.walk():\n",
        "                if part.get_content_type() == 'text/plain' or part.get_content_type() == 'text/html':\n",
        "                    subject = str(msg['subject'])\n",
        "                    return subject+part.get_payload()\n",
        "    except Exception as e:\n",
        "        print(e)\n",
        "\n",
        "def get_email_content_bulk(email_paths):\n",
        "    email_contents = [get_email_content(o) for o in email_paths]\n",
        "    return email_contents\n",
        "\n",
        "#get contents of emails\n",
        "x_train = get_email_content_bulk(x_train)\n",
        "x_test = get_email_content_bulk(x_test)"
      ],
      "execution_count": 0,
      "outputs": []
    },
    {
      "cell_type": "markdown",
      "metadata": {
        "id": "iyWyRhGa7Mvg",
        "colab_type": "text"
      },
      "source": [
        "##Pre-processing\n",
        "\n",
        "Strip emails of unnecessary data and format for feature extraction"
      ]
    },
    {
      "cell_type": "code",
      "metadata": {
        "id": "dZ-iF4xj7LMR",
        "colab_type": "code",
        "colab": {
          "base_uri": "https://localhost:8080/",
          "height": 34
        },
        "outputId": "2f4624fc-efaf-47e9-cc21-24dc80fc6d08"
      },
      "source": [
        "def remove_null(datas,labels):\n",
        "    not_null_idx = [i for i,o in enumerate(datas) if o is not None]\n",
        "    return np.array(datas)[not_null_idx],np.array(labels)[not_null_idx]\n",
        "\n",
        "def remove_hyperlink(word):\n",
        "    return  re.sub(r\"http\\S+\", \"\", word)\n",
        "\n",
        "def to_lower(word):\n",
        "    result = word.lower()\n",
        "    return result\n",
        "\n",
        "def remove_number(word):\n",
        "    result = re.sub(r'\\d+', '', word)\n",
        "    return result\n",
        "\n",
        "def remove_punctuation(word):\n",
        "    result = word.translate(str.maketrans(dict.fromkeys(string.punctuation)))\n",
        "    return result\n",
        "\n",
        "def remove_whitespace(word):\n",
        "    result = word.strip()\n",
        "    return result\n",
        "\n",
        "def replace_newline(word):\n",
        "    return word.replace('\\n','')\n",
        "\n",
        "def clean_up_pipeline(sentence):\n",
        "    cleaning_utils = [remove_hyperlink,\n",
        "                        replace_newline,\n",
        "                        to_lower,\n",
        "                        remove_number,\n",
        "                        remove_punctuation,remove_whitespace]\n",
        "    for o in cleaning_utils:\n",
        "        sentence = o(sentence)\n",
        "    return sentence\n",
        "\n",
        "def remove_stop_words(words):\n",
        "    result = [i for i in words if i not in ENGLISH_STOP_WORDS]\n",
        "    return result\n",
        "\n",
        "def word_stemmer(words):\n",
        "    return [stemmer.stem(o) for o in words]\n",
        "\n",
        "def word_lemmatizer(words):\n",
        "    return [lemmatizer.lemmatize(o) for o in words]\n",
        "\n",
        "def clean_token_pipeline(words):\n",
        "    #change word_lemmatizer to word_stemmer if want to change\n",
        "    cleaning_utils = [remove_stop_words,word_lemmatizer]\n",
        "    for o in cleaning_utils:\n",
        "        words = o(words)\n",
        "    return words\n",
        "\n",
        "def convert_to_feature(raw_tokenize_data):\n",
        "    raw_sentences = [' '.join(o) for o in raw_tokenize_data]\n",
        "    return vectorizer.transform(raw_sentences)\n",
        "\n",
        "#remove emails with no contents\n",
        "x_train,y_train = remove_null(x_train,y_train)\n",
        "x_test,y_test = remove_null(x_test,y_test)\n",
        "\n",
        "#cleans email data\n",
        "x_train = [clean_up_pipeline(o) for o in x_train]\n",
        "x_test = [clean_up_pipeline(o) for o in x_test]\n",
        "\n",
        "lemmatizer = WordNetLemmatizer()\n",
        "\n",
        "#convert into tokens\n",
        "x_train = [word_tokenize(o) for o in x_train]\n",
        "x_test = [word_tokenize(o) for o in x_test]\n",
        "\n",
        "#getting meaning of words\n",
        "x_train = [clean_token_pipeline(o) for o in x_train]\n",
        "x_test = [clean_token_pipeline(o) for o in x_test]\n",
        "\n",
        "if test_email == True:\n",
        "    content = True\n",
        "    test = get_email_content_bulk([location])\n",
        "    print(test)\n",
        "    if test[0] == None:\n",
        "        content= False\n",
        "    else:\n",
        "        test = [clean_up_pipeline(o) for o in test]\n",
        "        test = [word_tokenize(o) for o in test]\n",
        "        test = [clean_token_pipeline(o) for o in test]\n",
        "\n",
        "if test_string == True:\n",
        "    string_content = True\n",
        "    if test_words == \"\":\n",
        "        string_content = False\n",
        "    else:\n",
        "        test_words = [clean_up_pipeline(o) for o in test_words]\n",
        "        test_words = [word_tokenize(o) for o in test_words]\n",
        "        test_words = [clean_token_pipeline(o) for o in test_words]\n"
      ],
      "execution_count": 23,
      "outputs": [
        {
          "output_type": "stream",
          "text": [
            "['All products for your health!']\n"
          ],
          "name": "stdout"
        }
      ]
    },
    {
      "cell_type": "markdown",
      "metadata": {
        "id": "hOuG045lE7y1",
        "colab_type": "text"
      },
      "source": [
        "##Feature Extraction"
      ]
    },
    {
      "cell_type": "code",
      "metadata": {
        "id": "QkUgK5v3E3ax",
        "colab_type": "code",
        "colab": {}
      },
      "source": [
        "if tfidf == True:\n",
        "    #converts to feature vectors using tf-idf\n",
        "    vectorizer = TfidfVectorizer(analyzer = 'word',ngram_range = (n_gram,n_gram))\n",
        "elif count ==  True:\n",
        "    #count occurrences of features\n",
        "    vectorizer = CountVectorizer(analyzer = 'word',ngram_range = (n_gram,n_gram))\n",
        "\n",
        "raw_sentences = [' '.join(o) for o in x_train]\n",
        "vectorizer.fit(raw_sentences)\n",
        "x_train_features = convert_to_feature(x_train)\n",
        "x_test_features = convert_to_feature(x_test)\n",
        "\n",
        "\n",
        "if test_email==True and content == True:\n",
        "    test_features = convert_to_feature(test)\n",
        "\n",
        "if test_string == True and string_content == True:\n",
        "    test_string_features = convert_to_feature(test_words)\n",
        "\n",
        "from sklearn.feature_selection import chi2,mutual_info_classif\n"
      ],
      "execution_count": 0,
      "outputs": []
    },
    {
      "cell_type": "markdown",
      "metadata": {
        "id": "rUOanfQ8E_7t",
        "colab_type": "text"
      },
      "source": [
        "##Feature Selection"
      ]
    },
    {
      "cell_type": "code",
      "metadata": {
        "id": "JBJOZbSFE_JG",
        "colab_type": "code",
        "colab": {}
      },
      "source": [
        "if threshold == True:\n",
        "    from sklearn.feature_selection import VarianceThreshold\n",
        "    selector = VarianceThreshold(threshold=0.0001)\n",
        "    selector.fit(x_train_features)\n",
        "    x_train_selection = selector.transform(x_train_features)\n",
        "    x_test_selection = selector.transform(x_test_features)\n",
        "    if several_criteria == True:\n",
        "        x_train_features = x_train_selection\n",
        "        x_test_features = x_test_selection\n",
        "\n",
        "if k_best == True:\n",
        "    from sklearn.feature_selection import SelectKBest\n",
        "    if mutual_info == True:\n",
        "        selector = SelectKBest(mutual_info_classif,k=100)\n",
        "    if chisqr == True:\n",
        "        selector = SelectKBest(chi2,k=100)\n",
        "    selector.fit(x_train_features,y_train)\n",
        "    x_train_selection = selector.transform(x_train_features)\n",
        "    x_test_selection = selector.transform(x_test_features)\n",
        "    if several_criteria == True:\n",
        "        x_train_features = x_train_selection\n",
        "        x_test_features = x_test_selection\n",
        "\n",
        "if s_perc == True:\n",
        "    from sklearn.feature_selection import SelectPercentile\n",
        "    if mutual_info == True:\n",
        "        selector = SelectPercentile(mutual_info_classif)\n",
        "    if chisqr == True:\n",
        "        selector = SelectPercentile(chi2)\n",
        "    selector.fit(x_train_features,y_train)\n",
        "    x_train_selection = selector.transform(x_train_features)\n",
        "    x_test_selection = selector.transform(x_test_features)\n",
        "    if several_criteria == True:\n",
        "        x_train_features = x_train_selection\n",
        "        x_test_features = x_test_selection\n",
        "\n",
        "if pca == True:\n",
        "    from sklearn.decomposition import PCA\n",
        "    decomp = PCA()\n",
        "    decomp.fit(x_train_features.toarray())\n",
        "    x_train_selection = decomp.transform(x_train_features.toarray())\n",
        "    x_test_selection = decomp.transform(x_test_features.toarray())\n",
        "    if several_criteria == True:\n",
        "        x_train_features = x_train_selection\n",
        "        x_test_features = x_test_selection\n",
        "\n",
        "if importance == True:\n",
        "    #get the importances of the features\n",
        "    model = ExtraTreesClassifier(n_estimators=100)\n",
        "    model.fit(x_train_features, y_train)\n",
        "    features = model.feature_importances_\n",
        "    #features_normal= np.std([tree.feature_importances_ for tree in model.estimators_], axis = 0) #normalised features\n",
        "\n",
        "    #use the importances to select the best features\n",
        "    percentile = np.percentile(features,90) #change percentile to change number of features selected\n",
        "    selection = SelectFromModel(model, threshold =percentile, prefit = True)\n",
        "    x_train_selection = selection.transform(x_train_features)\n",
        "    x_test_selection = selection.transform(x_test_features)\n",
        "    if test_email == True:\n",
        "        test_selection = selection.transform(test_features)\n",
        "    if test_string == True:\n",
        "        test_string_selection = selection.transform(test_string_features)\n",
        "\n"
      ],
      "execution_count": 0,
      "outputs": []
    },
    {
      "cell_type": "markdown",
      "metadata": {
        "id": "71W6lMRvFJjY",
        "colab_type": "text"
      },
      "source": [
        "##Standardization Methods"
      ]
    },
    {
      "cell_type": "code",
      "metadata": {
        "id": "UQ4PrBWWFIzG",
        "colab_type": "code",
        "outputId": "e8f5a7de-b9d9-4f61-adf8-e80a319a3887",
        "colab": {
          "base_uri": "https://localhost:8080/",
          "height": 34
        }
      },
      "source": [
        "\n",
        "if one_hot == True:\n",
        "    from sklearn.preprocessing import OneHotEncoder\n",
        "    enc = OneHotEncoder(handle_unknown='ignore')\n",
        "    try:\n",
        "        x_train_selection = enc.fit_transform(x_train_selection.toarray())\n",
        "        x_test_selection = enc.fit_transform(x_test_selection.toarray())\n",
        "    except AttributeError:\n",
        "        x_train_selection = enc.fit_transform(x_train_selection)\n",
        "        x_test_selection = enc.fit_transform(x_test_selection)\n",
        "if standardize == True:\n",
        "    from sklearn.preprocessing import StandardScaler\n",
        "    x_train_selection = StandardScaler(with_mean = False).fit_transform(x_train_selection)\n",
        "    x_test_selection = StandardScaler(with_mean=False).fit_transform(x_test_selection)\n",
        "if max_abs == True:\n",
        "    from sklearn.preprocessing import MaxAbsScaler\n",
        "    x_train_selection = MaxAbsScaler().fit_transform(x_train_selection)\n",
        "    x_test_selection = MaxAbsScaler().fit_transform(x_test_selection)\n",
        "if robust == True:\n",
        "    from sklearn.preprocessing import RobustScaler\n",
        "    x_train_selection = RobustScaler(with_centering = False).fit_transform(x_train_selection)\n",
        "    x_test_selection = RobustScaler(with_centering = False).fit_transform(x_test_selection)\n",
        "if power == True:\n",
        "    from sklearn.preprocessing import PowerTransformer\n",
        "    x_train_selection = PowerTransformer().fit_transform(x_train_selection.toarray())\n",
        "    x_test_selection = PowerTransformer().fit_transform(x_test_selection.toarray())\n",
        "if quantile_gauss == True:\n",
        "    from sklearn.preprocessing import QuantileTransformer\n",
        "    x_train_selection = QuantileTransformer(output_distribution = \"normal\").fit_transform(x_train_selection)\n",
        "    x_test_selection = QuantileTransformer(output_distribution = \"normal\").fit_transform(x_test_selection)\n",
        "if quantile_uniform == True:\n",
        "    from sklearn.preprocessing import QuantileTransformer\n",
        "    x_train_selection = QuantileTransformer(output_distribution = \"uniform\").fit_transform(x_train_selection)\n",
        "    x_test_selection = QuantileTransformer(output_distribution = \"uniform\").fit_transform(x_test_selection)\n",
        "if normal == True:\n",
        "    from sklearn.preprocessing import Normalizer\n",
        "    x_train_selection = Normalizer().fit_transform(x_train_selection)\n",
        "    x_test_selection = Normalizer().fit_transform(x_test_selection)\n",
        "    \n",
        "t1 = time()-t0\n",
        "print(\"pre-processing time: %0.2fs\" % t1)\n"
      ],
      "execution_count": 26,
      "outputs": [
        {
          "output_type": "stream",
          "text": [
            "pre-processing time: 41.49s\n"
          ],
          "name": "stdout"
        }
      ]
    },
    {
      "cell_type": "markdown",
      "metadata": {
        "id": "On7RqhTWFQLw",
        "colab_type": "text"
      },
      "source": [
        "##Train Classifier\n",
        "Train the selected classifer and return the results"
      ]
    },
    {
      "cell_type": "code",
      "metadata": {
        "id": "aSf2-lfHFNgM",
        "colab_type": "code",
        "colab": {}
      },
      "source": [
        "def analysis(classifier):\n",
        "    global first_predict\n",
        "    global second_predict\n",
        "    global third_predict\n",
        "    global x1,x2,x3,s1,s2,s3\n",
        "    t0 = time()\n",
        "    try:\n",
        "        clf.fit(x_train_selection.toarray(),y_train)\n",
        "    except AttributeError:\n",
        "        clf.fit(x_train_selection,y_train)\n",
        "    t2 = time() -t0\n",
        "    print(\"training time: %0.2fs\" % t2)\n",
        "\n",
        "    t0=time()\n",
        "    try:\n",
        "        y_predict = clf.predict(x_test_selection.toarray())\n",
        "    except AttributeError:\n",
        "        y_predict = clf.predict(x_test_selection)\n",
        "    t3 = time()-t0\n",
        "    print(\"testing time: %0.2fs\" % t3)\n",
        "    print(\"\\nConfusion Matrix\")\n",
        "    print(confusion_matrix(y_test,y_predict))\n",
        "\n",
        "\n",
        "    if filter1 == classifier:\n",
        "        first_predict = y_predict\n",
        "    if filter2 == classifier:\n",
        "        second_predict = y_predict\n",
        "    if filter3 == classifier:\n",
        "        third_predict = y_predict\n",
        "        \n",
        "    tn, fp, fn, tp = confusion_matrix(y_test,y_predict).ravel()\n",
        "\n",
        "    print(\" \")\n",
        "    print(\"True Negative: \",tn)\n",
        "    print(\"False Positive: \",fp)\n",
        "    print(\"False Negative: \",fn)\n",
        "    print(\"True Positive: \",tp)\n",
        "    print(\" \")\n",
        "    print(\"Accuracy: {:.2f}%\".format(100 * accuracy_score(y_test,y_predict)))\n",
        "    from sklearn.metrics import balanced_accuracy_score,average_precision_score,precision_recall_curve,classification_report,zero_one_loss\n",
        "    print(\"Balanced Accuracy: {:.2f}%\".format(100 * balanced_accuracy_score(y_test,y_predict)))#average of recall obtained on each class - for imbalanced datasets\n",
        "    print(\"Average Precision: {:.2f}%\".format(100 * average_precision_score(y_test,y_predict)))\n",
        "    print(\"F1 Score: {:.2f}%\".format(100 * f1_score(y_test,y_predict)))\n",
        "    print(\"Precision: {:.2f}%\".format(100 * precision_score(y_test, y_predict)))\n",
        "    print(\"Recall: {:.2f}%\".format(100 * recall_score(y_test, y_predict)))\n",
        "    print(\"Zero-one loss: {:.2f}%\".format(100 * zero_one_loss(y_test, y_predict))) # % misclassifications\n",
        "    print(\"\\nReport: \",classification_report(y_test,y_predict))\n",
        "\n",
        "    if roc == True:\n",
        "        #roc curve\n",
        "        auc1= roc_auc_score(y_test, y_predict)\n",
        "        print('AUC: %.2f' % auc1)\n",
        "        fpr, tpr, threshold = roc_curve(y_test, y_predict,pos_label=1)\n",
        "        roc_auc = auc(fpr, tpr)\n",
        "        import matplotlib.pyplot as plt\n",
        "        plt.title('Receiver Operating Characteristic')\n",
        "        plt.plot(fpr, tpr, color = 'blue', label = 'AUC = %0.2f' % roc_auc)\n",
        "        plt.legend(loc = 'lower right')\n",
        "        plt.plot([0, 1], [0, 1],linestyle='--')\n",
        "        plt.xlim([0, 1])\n",
        "        plt.ylim([0, 1])\n",
        "        plt.ylabel('True Positive Rate')\n",
        "        plt.xlabel('False Positive Rate')\n",
        "        plt.show()\n",
        "\n",
        "    if prec_curve == True:\n",
        "        import matplotlib.pyplot as plt\n",
        "        prec, rec, thresh = precision_recall_curve(y_test,y_predict)\n",
        "        prec_auc = auc(rec, prec)\n",
        "        plt.title('Precision Recall Curve')\n",
        "        plt.plot(rec, prec, color = 'blue',label = 'AUC = %0.2f' % prec_auc)\n",
        "        plt.legend(loc = 'lower right')\n",
        "        plt.xlim([0.0, 1.0])\n",
        "        plt.ylim([0.0, 1.05])\n",
        "        plt.ylabel('Precision')\n",
        "        plt.xlabel('Recall')\n",
        "        plt.show()\n",
        "\n",
        "    \n",
        "    if test_email ==True:\n",
        "        if content == False:\n",
        "            print(\"Email contained no content\")\n",
        "        else:\n",
        "            y_predict = clf.predict(test_selection.toarray())\n",
        "            print(\"Test Email: \")\n",
        "            if y_predict[0] == 1:\n",
        "                print(\"spam\")\n",
        "                if three_filters == True:\n",
        "                    if filter1 == classifier:\n",
        "                        x1 = \"spam\"\n",
        "                    elif filter2 == classifier:\n",
        "                        x2 = \"spam\"\n",
        "                    elif filter3 == classifier:\n",
        "                        x3 = \"spam\"\n",
        "            else:\n",
        "                print(\"ham\")\n",
        "                if three_filters == True:\n",
        "                    if filter1 == classifier:\n",
        "                        x1 = \"ham\"\n",
        "                    elif filter2 == classifier:\n",
        "                        x2 = \"ham\"\n",
        "                    elif filter3 == classifier:\n",
        "                        x3 = \"ham\"\n",
        "            try:\n",
        "                predict_prob = clf.predict_proba(test_selection.toarray())\n",
        "                print(\"Class Probabilities - ham: {:.2f}%\".format(100 * predict_prob[0][0]))\n",
        "                print(\"- spam: {:.2f}%\".format(100 * predict_prob[0][1]))\n",
        "            except AttributeError:\n",
        "                print(\"Could not get class probabilities\")\n",
        "\n",
        "    if test_string ==True:\n",
        "        if string_content == False:\n",
        "            print(\"String contained no content\")\n",
        "        else:\n",
        "            y_predict = clf.predict(test_string_selection.toarray())\n",
        "            print(\"Test String: \")\n",
        "            if y_predict[0] == 1:\n",
        "                print(\"spam\")\n",
        "                if three_filters == True:\n",
        "                    if filter1 == classifier:\n",
        "                        s1 = \"spam\"\n",
        "                    elif filter2 == classifier:\n",
        "                        s2 = \"spam\"\n",
        "                    elif filter3 == classifier:\n",
        "                        s3 = \"spam\"\n",
        "            else:\n",
        "                print(\"ham\")\n",
        "                if three_filters == True:\n",
        "                    if filter1 == classifier:\n",
        "                        s1 = \"ham\"\n",
        "                    elif filter2 == classifier:\n",
        "                        s2 = \"ham\"\n",
        "                    elif filter3 == classifier:\n",
        "                        s3 = \"ham\"\n",
        "            try:\n",
        "                predict_prob = clf.predict_proba(test_string_selection.toarray())\n",
        "                print(\"Class Probabilities - ham: {:.2f}%\".format(100 * predict_prob[0][0]))\n",
        "                print(\"- spam: {:.2f}%\".format(100 * predict_prob[0][1]))\n",
        "            except AttributeError:\n",
        "                print(\"Could not get class probabilities\")\n"
      ],
      "execution_count": 0,
      "outputs": []
    },
    {
      "cell_type": "markdown",
      "metadata": {
        "id": "3Chj3JRZFh66",
        "colab_type": "text"
      },
      "source": [
        "##Classifiers"
      ]
    },
    {
      "cell_type": "code",
      "metadata": {
        "id": "Zi8Z4S4FFeqZ",
        "colab_type": "code",
        "outputId": "b81cb4e6-6237-43cf-f162-b2c69c3e7281",
        "colab": {
          "base_uri": "https://localhost:8080/",
          "height": 1000
        }
      },
      "source": [
        "##############################################################\n",
        "#Naive Bayesian - Gaussian\n",
        "\n",
        "if naive_bayes == True:\n",
        "    print(\"\\n######################################\\nNaive Bayes - Gaussian\\n######################################\\n\")\n",
        "    clf = GaussianNB()\n",
        "    analysis(\"NB\")\n",
        "\n",
        "##############################################################\n",
        "#Naive Bayesian - Multinomial\n",
        "\n",
        "if mnb == True:\n",
        "    print(\"\\n######################################\\nNaive Bayes - Multinomial\\n######################################\\n\")\n",
        "    clf = MultinomialNB()\n",
        "    analysis(\"MNB\")\n",
        "    \n",
        "##############################################################\n",
        "#Support Vector Machine with Linear kernel\n",
        "\n",
        "if linear_svc == True:\n",
        "    print(\"\\n######################################\\nSVM (linear kernel)\\n######################################\\n\")\n",
        "    clf = LinearSVC(max_iter=10000)\n",
        "    analysis(\"LSVM\")\n",
        "    \n",
        "###############################################################\n",
        "#SVM without Linear kernel\n",
        "\n",
        "if svc == True:\n",
        "    print(\"\\n######################################\\nSVM (rbf kernel)\\n######################################\\n\")\n",
        "    clf = SVC(gamma = \"scale\",kernel=\"rbf\")\n",
        "    analysis(\"SVM\")\n",
        "\n",
        "##############################################################\n",
        "#Neural Network - Multi-Layer Perceptron\n",
        "\n",
        "if mlp == True:\n",
        "    print(\"\\n######################################\\nMLP\\n######################################\\n\")\n",
        "    clf = MLPClassifier(alpha=1, max_iter=1000,activation=\"relu\",solver = \"adam\",early_stopping=True,verbose=True,tol=0.00001)\n",
        "    analysis(\"MLP\")\n",
        "\n",
        "#############################################################\n",
        "#k Nearest Neighbours\n",
        "\n",
        "if knn == True:\n",
        "    print(\"\\n######################################\\nKNN\\n######################################\\n\")\n",
        "    clf = KNeighborsClassifier(n_neighbors=1,weights='distance')\n",
        "    analysis(\"KNN\")\n",
        "\n",
        "#############################################################\n",
        "#Decision Tree\n",
        "\n",
        "if dtc == True:\n",
        "    print(\"\\n######################################\\nDecision Tree\\n######################################\\n\")\n",
        "    clf = DecisionTreeClassifier(max_depth=None,criterion=\"entropy\",class_weight = \"balanced\")#uses information gain\n",
        "    analysis(\"DTC\")\n",
        "\n",
        "#############################################################\n",
        "#AdaBoost\n",
        "\n",
        "if ada == True:\n",
        "    print(\"\\n######################################\\nAdaBoost\\n######################################\\n\")\n",
        "    clf = AdaBoostClassifier()\n",
        "    analysis(\"ADA\")\n",
        "    \n",
        "#############################################################################\n",
        "# hybrid filter\n",
        "\n",
        "if three_filters == True:\n",
        "    print(\"\\n######################################\\nHybrid Filter\\n######################################\\n\")\n",
        "    t0=time()\n",
        "    y_predict = []\n",
        "    for i in range(len(first_predict)):\n",
        "        if first_predict[i] == second_predict[i]:\n",
        "            y_predict.append(first_predict[i])\n",
        "        else:\n",
        "            y_predict.append(third_predict[i])\n",
        "\n",
        "    t3 = time()-t0\n",
        "    print(\"testing time: %0.2fs\" % t3)\n",
        "    print(\" \")\n",
        "    print(confusion_matrix(y_test,y_predict))\n",
        "\n",
        "    tn, fp, fn, tp = confusion_matrix(y_test,y_predict).ravel()\n",
        "\n",
        "    print(\" \")\n",
        "    print(\"True Negative: \",tn)\n",
        "    print(\"False Positive: \",fp)\n",
        "    print(\"False Negative: \",fn)\n",
        "    print(\"True Positive: \",tp)\n",
        "    print(\" \")\n",
        "    print(\"Accuracy: {:.2f}%\".format(100 * accuracy_score(y_test,y_predict)))\n",
        "    from sklearn.metrics import balanced_accuracy_score,average_precision_score,precision_recall_curve,classification_report,zero_one_loss\n",
        "    print(\"Balanced Accuracy: {:.2f}%\".format(100 * balanced_accuracy_score(y_test,y_predict)))#average of recall obtained on each class - for imbalanced datasets\n",
        "    print(\"Average Precision: {:.2f}%\".format(100 * average_precision_score(y_test,y_predict)))#summarizes precision-recall curve - averages precisions for each threshold\n",
        "    print(\"F1 Score: {:.2f}%\".format(100 * f1_score(y_test,y_predict)))\n",
        "    print(\"Precision: {:.2f}%\".format(100 * precision_score(y_test, y_predict)))\n",
        "    print(\"Recall: {:.2f}%\".format(100 * recall_score(y_test, y_predict)))\n",
        "    print(\"Zero-one loss: {:.2f}%\".format(100 * zero_one_loss(y_test, y_predict))) #misclassifications\n",
        "    print(\"\\nReport: \",classification_report(y_test,y_predict))\n",
        "\n",
        "    if roc == True:\n",
        "        #roc curve\n",
        "        auc1= roc_auc_score(y_test, y_predict)\n",
        "        print('AUC: %.2f' % auc1)\n",
        "        fpr, tpr, threshold = roc_curve(y_test, y_predict,pos_label=1)\n",
        "        roc_auc = auc(fpr, tpr)\n",
        "        import matplotlib.pyplot as plt\n",
        "        plt.title('Receiver Operating Characteristic')\n",
        "        plt.plot(fpr, tpr, color = 'blue', label = 'AUC = %0.2f' % roc_auc)\n",
        "        plt.legend(loc = 'lower right')\n",
        "        plt.plot([0, 1], [0, 1],linestyle='--')\n",
        "        plt.xlim([0, 1])\n",
        "        plt.ylim([0, 1])\n",
        "        plt.ylabel('True Positive Rate')\n",
        "        plt.xlabel('False Positive Rate')\n",
        "        plt.show()\n",
        "\n",
        "    if prec_curve == True:\n",
        "        import matplotlib.pyplot as plt\n",
        "        prec, rec, thresh = precision_recall_curve(y_test,y_predict)\n",
        "        prec_auc = auc(rec, prec)\n",
        "        plt.title('Precision Recall Curve')\n",
        "        plt.plot(rec, prec, color = 'blue',label = 'AUC = %0.2f' % prec_auc)\n",
        "        plt.legend(loc = 'lower right')\n",
        "        plt.xlim([0.0, 1.0])\n",
        "        plt.ylim([0.0, 1.05])\n",
        "        plt.ylabel('Precision')\n",
        "        plt.xlabel('Recall')\n",
        "        plt.show()\n",
        "\n",
        "    if test_email ==True:\n",
        "        if content == False:\n",
        "            print(\"Email contained no content\")\n",
        "        else:\n",
        "            print(\"Test Email: \")\n",
        "            if x1 == x2:\n",
        "                print(x1)\n",
        "            else:\n",
        "                print(x3)\n",
        "\n",
        "    if test_string ==True:\n",
        "        if string_content == False:\n",
        "            print(\"String contained no content\")\n",
        "        else:\n",
        "            print(\"Test String: \")\n",
        "            if s1 == s2:\n",
        "                print(s1)\n",
        "            else:\n",
        "                print(s3)\n",
        "\n",
        "\n"
      ],
      "execution_count": 28,
      "outputs": [
        {
          "output_type": "stream",
          "text": [
            "\n",
            "######################################\n",
            "Naive Bayes - Gaussian\n",
            "######################################\n",
            "\n",
            "training time: 0.70s\n",
            "testing time: 0.16s\n",
            "\n",
            "Confusion Matrix\n",
            "[[417   8]\n",
            " [ 49 776]]\n",
            " \n",
            "True Negative:  417\n",
            "False Positive:  8\n",
            "False Negative:  49\n",
            "True Positive:  776\n",
            " \n",
            "Accuracy: 95.44%\n",
            "Balanced Accuracy: 96.09%\n",
            "Average Precision: 97.02%\n",
            "F1 Score: 96.46%\n",
            "Precision: 98.98%\n",
            "Recall: 94.06%\n",
            "Zero-one loss: 4.56%\n",
            "\n",
            "Report:                precision    recall  f1-score   support\n",
            "\n",
            "           0       0.89      0.98      0.94       425\n",
            "           1       0.99      0.94      0.96       825\n",
            "\n",
            "    accuracy                           0.95      1250\n",
            "   macro avg       0.94      0.96      0.95      1250\n",
            "weighted avg       0.96      0.95      0.95      1250\n",
            "\n",
            "AUC: 0.96\n"
          ],
          "name": "stdout"
        },
        {
          "output_type": "display_data",
          "data": {
            "image/png": "[encoded data removed]",
            "text/plain": [
              "<Figure size 432x288 with 1 Axes>"
            ]
          },
          "metadata": {
            "tags": [],
            "needs_background": "light"
          }
        },
        {
          "output_type": "display_data",
          "data": {
            "image/png": "[encoded data removed]",
            "text/plain": [
              "<Figure size 432x288 with 1 Axes>"
            ]
          },
          "metadata": {
            "tags": [],
            "needs_background": "light"
          }
        },
        {
          "output_type": "stream",
          "text": [
            "Test Email: \n",
            "spam\n",
            "Class Probabilities - ham: 0.00%\n",
            "- spam: 100.00%\n",
            "Test String: \n",
            "spam\n",
            "Class Probabilities - ham: 0.00%\n",
            "- spam: 100.00%\n",
            "\n",
            "######################################\n",
            "Naive Bayes - Multinomial\n",
            "######################################\n",
            "\n",
            "training time: 0.50s\n",
            "testing time: 0.05s\n",
            "\n",
            "Confusion Matrix\n",
            "[[414  11]\n",
            " [ 39 786]]\n",
            " \n",
            "True Negative:  414\n",
            "False Positive:  11\n",
            "False Negative:  39\n",
            "True Positive:  786\n",
            " \n",
            "Accuracy: 96.00%\n",
            "Balanced Accuracy: 96.34%\n",
            "Average Precision: 97.08%\n",
            "F1 Score: 96.92%\n",
            "Precision: 98.62%\n",
            "Recall: 95.27%\n",
            "Zero-one loss: 4.00%\n",
            "\n",
            "Report:                precision    recall  f1-score   support\n",
            "\n",
            "           0       0.91      0.97      0.94       425\n",
            "           1       0.99      0.95      0.97       825\n",
            "\n",
            "    accuracy                           0.96      1250\n",
            "   macro avg       0.95      0.96      0.96      1250\n",
            "weighted avg       0.96      0.96      0.96      1250\n",
            "\n",
            "AUC: 0.96\n"
          ],
          "name": "stdout"
        },
        {
          "output_type": "display_data",
          "data": {
            "image/png": "[encoded data removed]",
            "text/plain": [
              "<Figure size 432x288 with 1 Axes>"
            ]
          },
          "metadata": {
            "tags": [],
            "needs_background": "light"
          }
        },
        {
          "output_type": "display_data",
          "data": {
            "image/png": "[encoded data removed]",
            "text/plain": [
              "<Figure size 432x288 with 1 Axes>"
            ]
          },
          "metadata": {
            "tags": [],
            "needs_background": "light"
          }
        },
        {
          "output_type": "stream",
          "text": [
            "Test Email: \n",
            "spam\n",
            "Class Probabilities - ham: 4.25%\n",
            "- spam: 95.75%\n",
            "Test String: \n",
            "spam\n",
            "Class Probabilities - ham: 34.01%\n",
            "- spam: 65.99%\n",
            "\n",
            "######################################\n",
            "SVM (linear kernel)\n",
            "######################################\n",
            "\n",
            "training time: 0.99s\n",
            "testing time: 0.05s\n",
            "\n",
            "Confusion Matrix\n",
            "[[411  14]\n",
            " [  9 816]]\n",
            " \n",
            "True Negative:  411\n",
            "False Positive:  14\n",
            "False Negative:  9\n",
            "True Positive:  816\n",
            " \n",
            "Accuracy: 98.16%\n",
            "Balanced Accuracy: 97.81%\n",
            "Average Precision: 97.96%\n",
            "F1 Score: 98.61%\n",
            "Precision: 98.31%\n",
            "Recall: 98.91%\n",
            "Zero-one loss: 1.84%\n",
            "\n",
            "Report:                precision    recall  f1-score   support\n",
            "\n",
            "           0       0.98      0.97      0.97       425\n",
            "           1       0.98      0.99      0.99       825\n",
            "\n",
            "    accuracy                           0.98      1250\n",
            "   macro avg       0.98      0.98      0.98      1250\n",
            "weighted avg       0.98      0.98      0.98      1250\n",
            "\n",
            "AUC: 0.98\n"
          ],
          "name": "stdout"
        },
        {
          "output_type": "display_data",
          "data": {
            "image/png": "[encoded data removed]",
            "text/plain": [
              "<Figure size 432x288 with 1 Axes>"
            ]
          },
          "metadata": {
            "tags": [],
            "needs_background": "light"
          }
        },
        {
          "output_type": "display_data",
          "data": {
            "image/png": "[encoded data removed]",
            "text/plain": [
              "<Figure size 432x288 with 1 Axes>"
            ]
          },
          "metadata": {
            "tags": [],
            "needs_background": "light"
          }
        },
        {
          "output_type": "stream",
          "text": [
            "Test Email: \n",
            "spam\n",
            "Could not get class probabilities\n",
            "Test String: \n",
            "spam\n",
            "Could not get class probabilities\n",
            "\n",
            "######################################\n",
            "SVM (rbf kernel)\n",
            "######################################\n",
            "\n",
            "training time: 135.30s\n",
            "testing time: 41.85s\n",
            "\n",
            "Confusion Matrix\n",
            "[[199 226]\n",
            " [  2 823]]\n",
            " \n",
            "True Negative:  199\n",
            "False Positive:  226\n",
            "False Negative:  2\n",
            "True Positive:  823\n",
            " \n",
            "Accuracy: 81.76%\n",
            "Balanced Accuracy: 73.29%\n",
            "Average Precision: 78.43%\n",
            "F1 Score: 87.83%\n",
            "Precision: 78.46%\n",
            "Recall: 99.76%\n",
            "Zero-one loss: 18.24%\n",
            "\n",
            "Report:                precision    recall  f1-score   support\n",
            "\n",
            "           0       0.99      0.47      0.64       425\n",
            "           1       0.78      1.00      0.88       825\n",
            "\n",
            "    accuracy                           0.82      1250\n",
            "   macro avg       0.89      0.73      0.76      1250\n",
            "weighted avg       0.85      0.82      0.80      1250\n",
            "\n",
            "AUC: 0.73\n"
          ],
          "name": "stdout"
        },
        {
          "output_type": "display_data",
          "data": {
            "image/png": "[encoded data removed]",
            "text/plain": [
              "<Figure size 432x288 with 1 Axes>"
            ]
          },
          "metadata": {
            "tags": [],
            "needs_background": "light"
          }
        },
        {
          "output_type": "display_data",
          "data": {
            "image/png": "[encoded data removed]",
            "text/plain": [
              "<Figure size 432x288 with 1 Axes>"
            ]
          },
          "metadata": {
            "tags": [],
            "needs_background": "light"
          }
        },
        {
          "output_type": "stream",
          "text": [
            "Test Email: \n",
            "spam\n",
            "Could not get class probabilities\n",
            "Test String: \n",
            "spam\n",
            "Could not get class probabilities\n",
            "\n",
            "######################################\n",
            "MLP\n",
            "######################################\n",
            "\n",
            "Iteration 1, loss = 0.71099790\n",
            "Validation score: 0.962667\n",
            "Iteration 2, loss = 0.30189029\n",
            "Validation score: 0.968000\n",
            "Iteration 3, loss = 0.20901736\n",
            "Validation score: 0.968000\n",
            "Iteration 4, loss = 0.16685964\n",
            "Validation score: 0.968000\n",
            "Iteration 5, loss = 0.14174152\n",
            "Validation score: 0.970667\n",
            "Iteration 6, loss = 0.12600370\n",
            "Validation score: 0.976000\n",
            "Iteration 7, loss = 0.11320395\n",
            "Validation score: 0.973333\n",
            "Iteration 8, loss = 0.10426720\n",
            "Validation score: 0.973333\n",
            "Iteration 9, loss = 0.09784144\n",
            "Validation score: 0.973333\n",
            "Iteration 10, loss = 0.09068627\n",
            "Validation score: 0.968000\n",
            "Iteration 11, loss = 0.08681582\n",
            "Validation score: 0.970667\n",
            "Iteration 12, loss = 0.08301710\n",
            "Validation score: 0.970667\n",
            "Iteration 13, loss = 0.08009967\n",
            "Validation score: 0.965333\n",
            "Iteration 14, loss = 0.07660281\n",
            "Validation score: 0.965333\n",
            "Iteration 15, loss = 0.07661794\n",
            "Validation score: 0.968000\n",
            "Iteration 16, loss = 0.07395121\n",
            "Validation score: 0.965333\n",
            "Iteration 17, loss = 0.07142122\n",
            "Validation score: 0.965333\n",
            "Validation score did not improve more than tol=0.000010 for 10 consecutive epochs. Stopping.\n",
            "training time: 18.93s\n",
            "testing time: 0.09s\n",
            "\n",
            "Confusion Matrix\n",
            "[[415  10]\n",
            " [ 10 815]]\n",
            " \n",
            "True Negative:  415\n",
            "False Positive:  10\n",
            "False Negative:  10\n",
            "True Positive:  815\n",
            " \n",
            "Accuracy: 98.40%\n",
            "Balanced Accuracy: 98.22%\n",
            "Average Precision: 98.39%\n",
            "F1 Score: 98.79%\n",
            "Precision: 98.79%\n",
            "Recall: 98.79%\n",
            "Zero-one loss: 1.60%\n",
            "\n",
            "Report:                precision    recall  f1-score   support\n",
            "\n",
            "           0       0.98      0.98      0.98       425\n",
            "           1       0.99      0.99      0.99       825\n",
            "\n",
            "    accuracy                           0.98      1250\n",
            "   macro avg       0.98      0.98      0.98      1250\n",
            "weighted avg       0.98      0.98      0.98      1250\n",
            "\n",
            "AUC: 0.98\n"
          ],
          "name": "stdout"
        },
        {
          "output_type": "display_data",
          "data": {
            "image/png": "[encoded data removed]",
            "text/plain": [
              "<Figure size 432x288 with 1 Axes>"
            ]
          },
          "metadata": {
            "tags": [],
            "needs_background": "light"
          }
        },
        {
          "output_type": "display_data",
          "data": {
            "image/png": "[encoded data removed]",
            "text/plain": [
              "<Figure size 432x288 with 1 Axes>"
            ]
          },
          "metadata": {
            "tags": [],
            "needs_background": "light"
          }
        },
        {
          "output_type": "stream",
          "text": [
            "Test Email: \n",
            "spam\n",
            "Class Probabilities - ham: 21.99%\n",
            "- spam: 78.01%\n",
            "Test String: \n",
            "spam\n",
            "Class Probabilities - ham: 30.50%\n",
            "- spam: 69.50%\n",
            "\n",
            "######################################\n",
            "KNN\n",
            "######################################\n",
            "\n",
            "training time: 4.69s\n",
            "testing time: 58.92s\n",
            "\n",
            "Confusion Matrix\n",
            "[[317 108]\n",
            " [  2 823]]\n",
            " \n",
            "True Negative:  317\n",
            "False Positive:  108\n",
            "False Negative:  2\n",
            "True Positive:  823\n",
            " \n",
            "Accuracy: 91.20%\n",
            "Balanced Accuracy: 87.17%\n",
            "Average Precision: 88.35%\n",
            "F1 Score: 93.74%\n",
            "Precision: 88.40%\n",
            "Recall: 99.76%\n",
            "Zero-one loss: 8.80%\n",
            "\n",
            "Report:                precision    recall  f1-score   support\n",
            "\n",
            "           0       0.99      0.75      0.85       425\n",
            "           1       0.88      1.00      0.94       825\n",
            "\n",
            "    accuracy                           0.91      1250\n",
            "   macro avg       0.94      0.87      0.89      1250\n",
            "weighted avg       0.92      0.91      0.91      1250\n",
            "\n",
            "AUC: 0.87\n"
          ],
          "name": "stdout"
        },
        {
          "output_type": "display_data",
          "data": {
            "image/png": "[encoded data removed]",
            "text/plain": [
              "<Figure size 432x288 with 1 Axes>"
            ]
          },
          "metadata": {
            "tags": [],
            "needs_background": "light"
          }
        },
        {
          "output_type": "display_data",
          "data": {
            "image/png": "[encoded data removed]",
            "text/plain": [
              "<Figure size 432x288 with 1 Axes>"
            ]
          },
          "metadata": {
            "tags": [],
            "needs_background": "light"
          }
        },
        {
          "output_type": "stream",
          "text": [
            "Test Email: \n",
            "spam\n",
            "Class Probabilities - ham: 0.00%\n",
            "- spam: 100.00%\n",
            "Test String: \n",
            "spam\n",
            "Class Probabilities - ham: 0.00%\n",
            "- spam: 100.00%\n",
            "\n",
            "######################################\n",
            "Decision Tree\n",
            "######################################\n",
            "\n",
            "training time: 6.27s\n",
            "testing time: 0.05s\n",
            "\n",
            "Confusion Matrix\n",
            "[[397  28]\n",
            " [ 17 808]]\n",
            " \n",
            "True Negative:  397\n",
            "False Positive:  28\n",
            "False Negative:  17\n",
            "True Positive:  808\n",
            " \n",
            "Accuracy: 96.40%\n",
            "Balanced Accuracy: 95.68%\n",
            "Average Precision: 96.02%\n",
            "F1 Score: 97.29%\n",
            "Precision: 96.65%\n",
            "Recall: 97.94%\n",
            "Zero-one loss: 3.60%\n",
            "\n",
            "Report:                precision    recall  f1-score   support\n",
            "\n",
            "           0       0.96      0.93      0.95       425\n",
            "           1       0.97      0.98      0.97       825\n",
            "\n",
            "    accuracy                           0.96      1250\n",
            "   macro avg       0.96      0.96      0.96      1250\n",
            "weighted avg       0.96      0.96      0.96      1250\n",
            "\n",
            "AUC: 0.96\n"
          ],
          "name": "stdout"
        },
        {
          "output_type": "display_data",
          "data": {
            "image/png": "[encoded data removed]",
            "text/plain": [
              "<Figure size 432x288 with 1 Axes>"
            ]
          },
          "metadata": {
            "tags": [],
            "needs_background": "light"
          }
        },
        {
          "output_type": "display_data",
          "data": {
            "image/png": "[encoded data removed]",
            "text/plain": [
              "<Figure size 432x288 with 1 Axes>"
            ]
          },
          "metadata": {
            "tags": [],
            "needs_background": "light"
          }
        },
        {
          "output_type": "stream",
          "text": [
            "Test Email: \n",
            "spam\n",
            "Class Probabilities - ham: 0.00%\n",
            "- spam: 100.00%\n",
            "Test String: \n",
            "spam\n",
            "Class Probabilities - ham: 0.00%\n",
            "- spam: 100.00%\n",
            "\n",
            "######################################\n",
            "AdaBoost\n",
            "######################################\n",
            "\n",
            "training time: 33.63s\n",
            "testing time: 1.44s\n",
            "\n",
            "Confusion Matrix\n",
            "[[393  32]\n",
            " [ 13 812]]\n",
            " \n",
            "True Negative:  393\n",
            "False Positive:  32\n",
            "False Negative:  13\n",
            "True Positive:  812\n",
            " \n",
            "Accuracy: 96.40%\n",
            "Balanced Accuracy: 95.45%\n",
            "Average Precision: 95.73%\n",
            "F1 Score: 97.30%\n",
            "Precision: 96.21%\n",
            "Recall: 98.42%\n",
            "Zero-one loss: 3.60%\n",
            "\n",
            "Report:                precision    recall  f1-score   support\n",
            "\n",
            "           0       0.97      0.92      0.95       425\n",
            "           1       0.96      0.98      0.97       825\n",
            "\n",
            "    accuracy                           0.96      1250\n",
            "   macro avg       0.97      0.95      0.96      1250\n",
            "weighted avg       0.96      0.96      0.96      1250\n",
            "\n",
            "AUC: 0.95\n"
          ],
          "name": "stdout"
        },
        {
          "output_type": "display_data",
          "data": {
            "image/png": "[encoded data removed]",
            "text/plain": [
              "<Figure size 432x288 with 1 Axes>"
            ]
          },
          "metadata": {
            "tags": [],
            "needs_background": "light"
          }
        },
        {
          "output_type": "display_data",
          "data": {
            "image/png": "[encoded data removed]",
            "text/plain": [
              "<Figure size 432x288 with 1 Axes>"
            ]
          },
          "metadata": {
            "tags": [],
            "needs_background": "light"
          }
        },
        {
          "output_type": "stream",
          "text": [
            "Test Email: \n",
            "spam\n",
            "Class Probabilities - ham: 46.65%\n",
            "- spam: 53.35%\n",
            "Test String: \n",
            "spam\n",
            "Class Probabilities - ham: 47.55%\n",
            "- spam: 52.45%\n",
            "\n",
            "######################################\n",
            "Hybrid Filter\n",
            "######################################\n",
            "\n",
            "testing time: 0.00s\n",
            " \n",
            "[[416   9]\n",
            " [  9 816]]\n",
            " \n",
            "True Negative:  416\n",
            "False Positive:  9\n",
            "False Negative:  9\n",
            "True Positive:  816\n",
            " \n",
            "Accuracy: 98.56%\n",
            "Balanced Accuracy: 98.40%\n",
            "Average Precision: 98.55%\n",
            "F1 Score: 98.91%\n",
            "Precision: 98.91%\n",
            "Recall: 98.91%\n",
            "Zero-one loss: 1.44%\n",
            "\n",
            "Report:                precision    recall  f1-score   support\n",
            "\n",
            "           0       0.98      0.98      0.98       425\n",
            "           1       0.99      0.99      0.99       825\n",
            "\n",
            "    accuracy                           0.99      1250\n",
            "   macro avg       0.98      0.98      0.98      1250\n",
            "weighted avg       0.99      0.99      0.99      1250\n",
            "\n",
            "AUC: 0.98\n"
          ],
          "name": "stdout"
        },
        {
          "output_type": "display_data",
          "data": {
            "image/png": "[encoded data removed]",
            "text/plain": [
              "<Figure size 432x288 with 1 Axes>"
            ]
          },
          "metadata": {
            "tags": [],
            "needs_background": "light"
          }
        },
        {
          "output_type": "display_data",
          "data": {
            "image/png": "[encoded data removed]",
            "text/plain": [
              "<Figure size 432x288 with 1 Axes>"
            ]
          },
          "metadata": {
            "tags": [],
            "needs_background": "light"
          }
        },
        {
          "output_type": "stream",
          "text": [
            "Test Email: \n",
            "spam\n",
            "Test String: \n",
            "spam\n"
          ],
          "name": "stdout"
        }
      ]
    }
  ]
}